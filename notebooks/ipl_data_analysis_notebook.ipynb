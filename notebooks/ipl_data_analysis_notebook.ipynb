{
 "cells": [
  {
   "cell_type": "code",
   "execution_count": 0,
   "metadata": {
    "application/vnd.databricks.v1+cell": {
     "cellMetadata": {
      "byteLimit": 2048000,
      "rowLimit": 10000
     },
     "inputWidgets": {},
     "nuid": "13b0ee66-2925-4cf2-9450-7f013686d98c",
     "showTitle": false,
     "tableResultSettingsMap": {},
     "title": ""
    }
   },
   "outputs": [],
   "source": [
    "# Importing necessary libraries for Spark session and data processing\n",
    "from pyspark.sql import SparkSession\n",
    "from pyspark.sql.functions import *\n",
    "from pyspark.sql.types import (\n",
    "    StructType,\n",
    "    StructField,\n",
    "    IntegerType,\n",
    "    StringType,\n",
    "    BooleanType,\n",
    "    DateType,\n",
    ")\n",
    "\n",
    "# Initialize Spark session\n",
    "spark = SparkSession.builder.appName(\"IPL Analysis\").getOrCreate()"
   ]
  },
  {
   "cell_type": "code",
   "execution_count": 0,
   "metadata": {
    "application/vnd.databricks.v1+cell": {
     "cellMetadata": {
      "byteLimit": 2048000,
      "rowLimit": 10000
     },
     "inputWidgets": {},
     "nuid": "f6f8fdd1-6324-41fb-9968-75859abfb8b9",
     "showTitle": false,
     "tableResultSettingsMap": {},
     "title": ""
    }
   },
   "outputs": [],
   "source": [
    "# Storage account configuration\n",
    "storage_account_name = \"<storage_account_name>"\n",
    "container_name = \"<container_name>"\n",
    "storage_account_key = \"<storage_account_key>"\n",
    "\n",
    "# Mounting Azure Blob Storage to Databricks File System (DBFS) if not already mounted\n",
    "mnt_point = f\"/mnt/{container_name}_data\"\n",
    "if not any(mount.mountPoint == mnt_point for mount in dbutils.fs.mounts()):\n",
    "    dbutils.fs.mount(\n",
    "        source=f\"wasbs://{container_name}@{storage_account_name}.blob.core.windows.net\",\n",
    "        mount_point=mnt_point,\n",
    "        extra_configs={\n",
    "            f\"fs.azure.account.key.{storage_account_name}.blob.core.windows.net\": storage_account_key\n",
    "        },\n",
    "    )\n",
    "\n",
    "# Base path for the mounted data\n",
    "data_path = f\"{mnt_point}/\""
   ]
  },
  {
   "cell_type": "code",
   "execution_count": 0,
   "metadata": {
    "application/vnd.databricks.v1+cell": {
     "cellMetadata": {
      "byteLimit": 2048000,
      "rowLimit": 10000
     },
     "inputWidgets": {},
     "nuid": "af12f080-10d8-4322-9427-3f2f3b85db7d",
     "showTitle": false,
     "tableResultSettingsMap": {},
     "title": ""
    }
   },
   "outputs": [],
   "source": [
    "# Schema definition for the matches dataset\n",
    "matches_schema = StructType(\n",
    "    [\n",
    "        StructField(\"id\", IntegerType(), True),\n",
    "        StructField(\"season\", StringType(), True),\n",
    "        StructField(\"city\", StringType(), True),\n",
    "        StructField(\"date\", DateType(), True),\n",
    "        StructField(\"match_type\", StringType(), True),\n",
    "        StructField(\"player_of_match\", StringType(), True),\n",
    "        StructField(\"venue\", StringType(), True),\n",
    "        StructField(\"team1\", StringType(), True),\n",
    "        StructField(\"team2\", StringType(), True),\n",
    "        StructField(\"toss_winner\", StringType(), True),\n",
    "        StructField(\"toss_decision\", StringType(), True),\n",
    "        StructField(\"winner\", StringType(), True),\n",
    "        StructField(\"result\", StringType(), True),\n",
    "        StructField(\"result_margin\", IntegerType(), True),\n",
    "        StructField(\"target_runs\", IntegerType(), True),\n",
    "        StructField(\"target_overs\", IntegerType(), True),\n",
    "        StructField(\"super_over\", StringType(), True),\n",
    "        StructField(\"method\", StringType(), True),\n",
    "        StructField(\"umpire1\", StringType(), True),\n",
    "        StructField(\"umpire2\", StringType(), True),\n",
    "    ]\n",
    ")\n",
    "\n",
    "# Loading the matches dataset with defined schema\n",
    "matches_df = (\n",
    "    spark.read.format(\"csv\")\n",
    "    .option(\"header\", \"true\")\n",
    "    .schema(matches_schema)\n",
    "    .load(f\"{data_path}matches.csv\")\n",
    ")\n",
    "\n",
    "# Converting the \"super_over\" column to BooleanType\n",
    "matches_df = matches_df.withColumn(\n",
    "    \"super_over\", (col(\"super_over\") == \"Y\").cast(BooleanType())\n",
    ")"
   ]
  },
  {
   "cell_type": "code",
   "execution_count": 0,
   "metadata": {
    "application/vnd.databricks.v1+cell": {
     "cellMetadata": {
      "byteLimit": 2048000,
      "rowLimit": 10000
     },
     "inputWidgets": {},
     "nuid": "e7986d13-0994-4d5f-9ce4-d13119919667",
     "showTitle": false,
     "tableResultSettingsMap": {},
     "title": ""
    }
   },
   "outputs": [],
   "source": [
    "# Schema definition for the deliveries dataset\n",
    "deliveries_schema = StructType(\n",
    "    [\n",
    "        StructField(\"match_id\", IntegerType(), True),\n",
    "        StructField(\"inning\", IntegerType(), True),\n",
    "        StructField(\"batting_team\", StringType(), True),\n",
    "        StructField(\"bowling_team\", StringType(), True),\n",
    "        StructField(\"over\", IntegerType(), True),\n",
    "        StructField(\"ball\", IntegerType(), True),\n",
    "        StructField(\"batter\", StringType(), True),\n",
    "        StructField(\"bowler\", StringType(), True),\n",
    "        StructField(\"non_striker\", StringType(), True),\n",
    "        StructField(\"batsman_runs\", IntegerType(), True),\n",
    "        StructField(\"extra_runs\", IntegerType(), True),\n",
    "        StructField(\"total_runs\", IntegerType(), True),\n",
    "        StructField(\"extras_type\", StringType(), True),\n",
    "        StructField(\"is_wicket\", IntegerType(), True),\n",
    "        StructField(\"player_dismissed\", StringType(), True),\n",
    "        StructField(\"dismissal_kind\", StringType(), True),\n",
    "        StructField(\"fielder\", StringType(), True),\n",
    "    ]\n",
    ")\n",
    "\n",
    "# Loading the deliveries dataset with defined schema\n",
    "deliveries_df = (\n",
    "    spark.read.format(\"csv\")\n",
    "    .option(\"header\", \"true\")\n",
    "    .schema(deliveries_schema)\n",
    "    .load(f\"{data_path}deliveries.csv\")\n",
    ")\n",
    "\n",
    "# Converting the \"is_wicket\" column to BooleanType\n",
    "deliveries_df = deliveries_df.withColumn(\n",
    "    \"is_wicket\", (col(\"is_wicket\") == 1).cast(BooleanType())\n",
    ")"
   ]
  },
  {
   "cell_type": "code",
   "execution_count": 0,
   "metadata": {
    "application/vnd.databricks.v1+cell": {
     "cellMetadata": {
      "byteLimit": 2048000,
      "implicitDf": true,
      "rowLimit": 10000
     },
     "inputWidgets": {},
     "nuid": "181d225d-687a-4a57-9f0a-01e8422955c1",
     "showTitle": false,
     "tableResultSettingsMap": {},
     "title": ""
    }
   },
   "outputs": [
    {
     "output_type": "display_data",
     "data": {
      "text/html": [
       "<style scoped>\n",
       "  .table-result-container {\n",
       "    max-height: 300px;\n",
       "    overflow: auto;\n",
       "  }\n",
       "  table, th, td {\n",
       "    border: 1px solid black;\n",
       "    border-collapse: collapse;\n",
       "  }\n",
       "  th, td {\n",
       "    padding: 5px;\n",
       "  }\n",
       "  th {\n",
       "    text-align: left;\n",
       "  }\n",
       "</style><div class='table-result-container'><table class='table-result'><thead style='background-color: white'><tr></tr></thead><tbody></tbody></table></div>"
      ]
     },
     "metadata": {
      "application/vnd.databricks.v1+output": {
       "addedWidgets": {},
       "aggData": [],
       "aggError": "",
       "aggOverflow": false,
       "aggSchema": [],
       "aggSeriesLimitReached": false,
       "aggType": "",
       "arguments": {},
       "columnCustomDisplayInfos": {},
       "data": [],
       "datasetInfos": [],
       "dbfsResultPath": null,
       "isJsonSchema": true,
       "metadata": {
        "dataframeName": null
       },
       "overflow": false,
       "plotOptions": {
        "customPlotOptions": {},
        "displayType": "table",
        "pivotAggregation": null,
        "pivotColumns": null,
        "xColumns": null,
        "yColumns": null
       },
       "removedWidgets": [],
       "schema": [],
       "type": "table"
      }
     },
     "output_type": "display_data"
    }
   ],
   "source": [
    "%sql\n",
    "CREATE DATABASE IF NOT EXISTS ipl_data;"
   ]
  },
  {
   "cell_type": "code",
   "execution_count": 0,
   "metadata": {
    "application/vnd.databricks.v1+cell": {
     "cellMetadata": {
      "byteLimit": 2048000,
      "implicitDf": true,
      "rowLimit": 10000
     },
     "inputWidgets": {},
     "nuid": "3afbe0a7-9ba7-4d91-9899-366f660372d7",
     "showTitle": false,
     "tableResultSettingsMap": {},
     "title": ""
    }
   },
   "outputs": [
    {
     "output_type": "display_data",
     "data": {
      "text/html": [
       "<style scoped>\n",
       "  .table-result-container {\n",
       "    max-height: 300px;\n",
       "    overflow: auto;\n",
       "  }\n",
       "  table, th, td {\n",
       "    border: 1px solid black;\n",
       "    border-collapse: collapse;\n",
       "  }\n",
       "  th, td {\n",
       "    padding: 5px;\n",
       "  }\n",
       "  th {\n",
       "    text-align: left;\n",
       "  }\n",
       "</style><div class='table-result-container'><table class='table-result'><thead style='background-color: white'><tr></tr></thead><tbody></tbody></table></div>"
      ]
     },
     "metadata": {
      "application/vnd.databricks.v1+output": {
       "addedWidgets": {},
       "aggData": [],
       "aggError": "",
       "aggOverflow": false,
       "aggSchema": [],
       "aggSeriesLimitReached": false,
       "aggType": "",
       "arguments": {},
       "columnCustomDisplayInfos": {},
       "data": [],
       "datasetInfos": [],
       "dbfsResultPath": null,
       "isJsonSchema": true,
       "metadata": {
        "dataframeName": null
       },
       "overflow": false,
       "plotOptions": {
        "customPlotOptions": {},
        "displayType": "table",
        "pivotAggregation": null,
        "pivotColumns": null,
        "xColumns": null,
        "yColumns": null
       },
       "removedWidgets": [],
       "schema": [],
       "type": "table"
      }
     },
     "output_type": "display_data"
    }
   ],
   "source": [
    "%sql\n",
    "USE ipl_data"
   ]
  },
  {
   "cell_type": "code",
   "execution_count": 0,
   "metadata": {
    "application/vnd.databricks.v1+cell": {
     "cellMetadata": {
      "byteLimit": 2048000,
      "rowLimit": 10000
     },
     "inputWidgets": {},
     "nuid": "d966e2d4-d6e8-4b1e-976d-94fbd8d4f280",
     "showTitle": false,
     "tableResultSettingsMap": {},
     "title": ""
    }
   },
   "outputs": [],
   "source": [
    "# Saving raw data to Bronze layer in Delta format\n",
    "matches_df.write.format(\"delta\").mode(\"overwrite\").saveAsTable(\"matches\")\n",
    "deliveries_df.write.format(\"delta\").mode(\"overwrite\").saveAsTable(\"deliveries\")"
   ]
  },
  {
   "cell_type": "code",
   "execution_count": 0,
   "metadata": {
    "application/vnd.databricks.v1+cell": {
     "cellMetadata": {
      "byteLimit": 2048000,
      "rowLimit": 10000
     },
     "inputWidgets": {},
     "nuid": "2335caf9-9db8-46d6-aa6e-f19e16460318",
     "showTitle": false,
     "tableResultSettingsMap": {},
     "title": ""
    }
   },
   "outputs": [
    {
     "output_type": "stream",
     "name": "stdout",
     "output_type": "stream",
     "text": [
      "root\n |-- id: integer (nullable = true)\n |-- season: string (nullable = true)\n |-- city: string (nullable = true)\n |-- date: date (nullable = true)\n |-- match_type: string (nullable = true)\n |-- player_of_match: string (nullable = true)\n |-- venue: string (nullable = true)\n |-- team1: string (nullable = true)\n |-- team2: string (nullable = true)\n |-- toss_winner: string (nullable = true)\n |-- toss_decision: string (nullable = true)\n |-- winner: string (nullable = true)\n |-- result: string (nullable = true)\n |-- result_margin: integer (nullable = true)\n |-- target_runs: integer (nullable = true)\n |-- target_overs: integer (nullable = true)\n |-- super_over: boolean (nullable = true)\n |-- method: string (nullable = true)\n |-- umpire1: string (nullable = true)\n |-- umpire2: string (nullable = true)\n\nroot\n |-- match_id: integer (nullable = true)\n |-- inning: integer (nullable = true)\n |-- batting_team: string (nullable = true)\n |-- bowling_team: string (nullable = true)\n |-- over: integer (nullable = true)\n |-- ball: integer (nullable = true)\n |-- batter: string (nullable = true)\n |-- bowler: string (nullable = true)\n |-- non_striker: string (nullable = true)\n |-- batsman_runs: integer (nullable = true)\n |-- extra_runs: integer (nullable = true)\n |-- total_runs: integer (nullable = true)\n |-- extras_type: string (nullable = true)\n |-- is_wicket: boolean (nullable = true)\n |-- player_dismissed: string (nullable = true)\n |-- dismissal_kind: string (nullable = true)\n |-- fielder: string (nullable = true)\n\n"
     ]
    }
   ],
   "source": [
    "# Quick schema inspection for both datasets\n",
    "matches_df.printSchema()\n",
    "deliveries_df.printSchema()"
   ]
  },
  {
   "cell_type": "code",
   "execution_count": 0,
   "metadata": {
    "application/vnd.databricks.v1+cell": {
     "cellMetadata": {
      "byteLimit": 2048000,
      "rowLimit": 10000
     },
     "inputWidgets": {},
     "nuid": "83477683-5418-4ad3-ae1f-22a081f0e0af",
     "showTitle": false,
     "tableResultSettingsMap": {},
     "title": ""
    }
   },
   "outputs": [],
   "source": [
    "# Standardizing the \"season\" column values\n",
    "matches_df = matches_df.withColumn(\n",
    "    \"season\",\n",
    "    when(col(\"season\") == \"2007/08\", \"2008\")\n",
    "    .when(col(\"season\") == \"2009/10\", \"2010\")\n",
    "    .when(col(\"season\") == \"2020/21\", \"2020\")\n",
    "    .otherwise(col(\"season\"))\n",
    "    .cast(IntegerType()),\n",
    ")"
   ]
  },
  {
   "cell_type": "code",
   "execution_count": 0,
   "metadata": {
    "application/vnd.databricks.v1+cell": {
     "cellMetadata": {
      "byteLimit": 2048000,
      "rowLimit": 10000
     },
     "inputWidgets": {},
     "nuid": "b5533573-3950-4bc3-b1b6-10464e6ee363",
     "showTitle": false,
     "tableResultSettingsMap": {},
     "title": ""
    }
   },
   "outputs": [
    {
     "output_type": "stream",
     "name": "stdout",
     "output_type": "stream",
     "text": [
      "+------+\n|season|\n+------+\n|  2008|\n|  2009|\n|  2010|\n|  2011|\n|  2012|\n|  2013|\n|  2014|\n|  2015|\n|  2016|\n|  2017|\n|  2018|\n|  2019|\n|  2020|\n|  2021|\n|  2022|\n|  2023|\n|  2024|\n+------+\n\n"
     ]
    }
   ],
   "source": [
    "matches_df.select(\"season\").distinct().sort(\"season\").show()"
   ]
  },
  {
   "cell_type": "code",
   "execution_count": 0,
   "metadata": {
    "application/vnd.databricks.v1+cell": {
     "cellMetadata": {
      "byteLimit": 2048000,
      "rowLimit": 10000
     },
     "inputWidgets": {},
     "nuid": "29fe854c-2741-409f-b68f-5e5a59c9d921",
     "showTitle": false,
     "tableResultSettingsMap": {},
     "title": ""
    }
   },
   "outputs": [
    {
     "output_type": "stream",
     "name": "stdout",
     "output_type": "stream",
     "text": [
      "+---------------------------+\n|team1                      |\n+---------------------------+\n|Sunrisers Hyderabad        |\n|Lucknow Super Giants       |\n|Chennai Super Kings        |\n|Gujarat Titans             |\n|Royal Challengers Bengaluru|\n|Rising Pune Supergiant     |\n|Deccan Chargers            |\n|Kochi Tuskers Kerala       |\n|Rajasthan Royals           |\n|Gujarat Lions              |\n|Royal Challengers Bangalore|\n|Kolkata Knight Riders      |\n|Rising Pune Supergiants    |\n|Kings XI Punjab            |\n|Punjab Kings               |\n|Pune Warriors              |\n|Delhi Daredevils           |\n|Delhi Capitals             |\n|Mumbai Indians             |\n+---------------------------+\n\n"
     ]
    }
   ],
   "source": [
    "matches_df.select(\"team1\").distinct().show(truncate=False)"
   ]
  },
  {
   "cell_type": "code",
   "execution_count": 0,
   "metadata": {
    "application/vnd.databricks.v1+cell": {
     "cellMetadata": {
      "byteLimit": 2048000,
      "rowLimit": 10000
     },
     "inputWidgets": {},
     "nuid": "7f74980b-2643-461f-bcc3-bf6b59ee30f7",
     "showTitle": false,
     "tableResultSettingsMap": {},
     "title": ""
    }
   },
   "outputs": [],
   "source": [
    "# Define dictionaries for value replacements\n",
    "teams_replace_dict = {\n",
    "    \"Royal Challengers Bangalore\": \"Royal Challengers Bengaluru\",\n",
    "    \"Delhi Daredevils\": \"Delhi Capitals\",\n",
    "    \"Kings XI Punjab\": \"Punjab Kings\",\n",
    "    \"Rising Pune Supergiants\": \"Rising Pune Supergiant\",\n",
    "}\n",
    "\n",
    "venue_replace_dict = {\n",
    "    \"Arun Jaitley Stadium\": \"Arun Jaitley Stadium, Delhi\",\n",
    "    \"Feroz Shah Kotla\": \"Arun Jaitley Stadium, Delhi\",\n",
    "    \"Brabourne Stadium\": \"Brabourne Stadium, Mumbai\",\n",
    "    \"Dr DY Patil Sports Academy\": \"Dr DY Patil Sports Academy, Mumbai\",\n",
    "    \"Dr. Y.S. Rajasekhara Reddy ACA-VDCA Cricket Stadium\": \"Dr. Y.S. Rajasekhara Reddy ACA-VDCA Cricket Stadium, Visakhapatnam\",\n",
    "    \"Eden Gardens\": \"Eden Gardens, Kolkata\",\n",
    "    \"Himachal Pradesh Cricket Association Stadium\": \"Himachal Pradesh Cricket Association Stadium, Dharamsala\",\n",
    "    \"M Chinnaswamy Stadium\": \"M Chinnaswamy Stadium, Bengaluru\",\n",
    "    \"M.Chinnaswamy Stadium\": \"M Chinnaswamy Stadium, Bengaluru\",\n",
    "    \"MA Chidambaram Stadium\": \"MA Chidambaram Stadium, Chepauk, Chennai\",\n",
    "    \"MA Chidambaram Stadium, Chepauk\": \"MA Chidambaram Stadium, Chepauk, Chennai\",\n",
    "    \"Maharashtra Cricket Association Stadium\": \"Maharashtra Cricket Association Stadium, Pune\",\n",
    "    \"Sardar Patel Stadium, Motera\": \"Narendra Modi Stadium, Ahmedabad\",\n",
    "    \"Punjab Cricket Association IS Bindra Stadium\": \"Punjab Cricket Association IS Bindra Stadium, Mohali, Chandigarh\",\n",
    "    \"Punjab Cricket Association IS Bindra Stadium, Mohali\": \"Punjab Cricket Association IS Bindra Stadium, Mohali, Chandigarh\",\n",
    "    \"Punjab Cricket Association Stadium, Mohali\": \"Punjab Cricket Association IS Bindra Stadium, Mohali, Chandigarh\",\n",
    "    \"Rajiv Gandhi International Stadium\": \"Rajiv Gandhi International Stadium, Uppal, Hyderabad\",\n",
    "    \"Rajiv Gandhi International Stadium, Uppal\": \"Rajiv Gandhi International Stadium, Uppal, Hyderabad\",\n",
    "    \"Sawai Mansingh Stadium\": \"Sawai Mansingh Stadium, Jaipur\",\n",
    "    \"Wankhede Stadium\": \"Wankhede Stadium, Mumbai\",\n",
    "}"
   ]
  },
  {
   "cell_type": "code",
   "execution_count": 0,
   "metadata": {
    "application/vnd.databricks.v1+cell": {
     "cellMetadata": {
      "byteLimit": 2048000,
      "rowLimit": 10000
     },
     "inputWidgets": {},
     "nuid": "2954b613-70d5-4907-afdb-501bdf893867",
     "showTitle": false,
     "tableResultSettingsMap": {},
     "title": ""
    }
   },
   "outputs": [],
   "source": [
    "# Function to apply replacements based on a dictionary\n",
    "def replace_values(column, replacements):\n",
    "    column_expr = col(column)\n",
    "    for key, value in replacements.items():\n",
    "        column_expr = when(col(column) == key, value).otherwise(column_expr)\n",
    "    return column_expr"
   ]
  },
  {
   "cell_type": "code",
   "execution_count": 0,
   "metadata": {
    "application/vnd.databricks.v1+cell": {
     "cellMetadata": {
      "byteLimit": 2048000,
      "rowLimit": 10000
     },
     "inputWidgets": {},
     "nuid": "ef1b11fe-2a62-40a0-a82c-da1341683ef3",
     "showTitle": false,
     "tableResultSettingsMap": {},
     "title": ""
    }
   },
   "outputs": [],
   "source": [
    "# Applying replacements to the columns in matches_df\n",
    "matches_cleaned_df = (\n",
    "    matches_df.withColumn(\"team1\", replace_values(\"team1\", teams_replace_dict))\n",
    "    .withColumn(\"team2\", replace_values(\"team2\", teams_replace_dict))\n",
    "    .withColumn(\"toss_winner\", replace_values(\"toss_winner\", teams_replace_dict))\n",
    "    .withColumn(\"winner\", replace_values(\"winner\", teams_replace_dict))\n",
    "    .withColumn(\"venue\", replace_values(\"venue\", venue_replace_dict))\n",
    ")\n",
    "\n",
    "# Applying replacements to the columns in deliveries_df\n",
    "deliveries_cleaned_df = deliveries_df.withColumn(\n",
    "    \"batting_team\", replace_values(\"batting_team\", teams_replace_dict)\n",
    ").withColumn(\"bowling_team\", replace_values(\"bowling_team\", teams_replace_dict))"
   ]
  },
  {
   "cell_type": "code",
   "execution_count": 0,
   "metadata": {
    "application/vnd.databricks.v1+cell": {
     "cellMetadata": {
      "byteLimit": 2048000,
      "rowLimit": 10000
     },
     "inputWidgets": {},
     "nuid": "bc1986a0-a124-4af3-b4ef-97c67257f944",
     "showTitle": false,
     "tableResultSettingsMap": {},
     "title": ""
    }
   },
   "outputs": [
    {
     "output_type": "stream",
     "name": "stdout",
     "output_type": "stream",
     "text": [
      "+------------------------------------------+\n|venue                                     |\n+------------------------------------------+\n|Sardar Patel Stadium, Motera              |\n|Punjab Cricket Association Stadium, Mohali|\n|Barabati Stadium                          |\n|Brabourne Stadium, Mumbai                 |\n|Eden Gardens                              |\n|OUTsurance Oval                           |\n|M Chinnaswamy Stadium                     |\n|Feroz Shah Kotla                          |\n|Rajiv Gandhi International Stadium, Uppal |\n|Brabourne Stadium                         |\n|St George's Park                          |\n|Wankhede Stadium                          |\n|Newlands                                  |\n|Dr DY Patil Sports Academy                |\n|Buffalo Park                              |\n|New Wanderers Stadium                     |\n|SuperSport Park                           |\n|Sawai Mansingh Stadium                    |\n|MA Chidambaram Stadium, Chepauk           |\n|De Beers Diamond Oval                     |\n+------------------------------------------+\nonly showing top 20 rows\n\n"
     ]
    }
   ],
   "source": [
    "matches_df.select(\"venue\").distinct().show(truncate=False)"
   ]
  },
  {
   "cell_type": "code",
   "execution_count": 0,
   "metadata": {
    "application/vnd.databricks.v1+cell": {
     "cellMetadata": {
      "byteLimit": 2048000,
      "rowLimit": 10000
     },
     "inputWidgets": {},
     "nuid": "e85613ad-0099-4673-8b0a-e678587213d5",
     "showTitle": false,
     "tableResultSettingsMap": {},
     "title": ""
    }
   },
   "outputs": [],
   "source": [
    "# Save cleaned data to Silver layer in Delta format\n",
    "matches_cleaned_df.write.format(\"delta\").mode(\"overwrite\").saveAsTable(\"matches_cleaned\")\n",
    "deliveries_cleaned_df.write.format(\"delta\").mode(\"overwrite\").saveAsTable(\"deliveries_cleaned\")"
   ]
  },
  {
   "cell_type": "code",
   "execution_count": 0,
   "metadata": {
    "application/vnd.databricks.v1+cell": {
     "cellMetadata": {
      "byteLimit": 2048000,
      "rowLimit": 10000
     },
     "inputWidgets": {},
     "nuid": "02a673c4-25db-48ff-bf0f-f08d2f9aee4a",
     "showTitle": false,
     "tableResultSettingsMap": {},
     "title": ""
    }
   },
   "outputs": [
    {
     "output_type": "execute_result",
     "data": {
      "text/plain": [
       "DataFrame[match_id: int, inning: int, batting_team: string, bowling_team: string, over: int, ball: int, batter: string, bowler: string, non_striker: string, batsman_runs: int, extra_runs: int, total_runs: int, extras_type: string, is_wicket: boolean, player_dismissed: string, dismissal_kind: string, fielder: string]"
      ]
     },
     "execution_count": 16,
     "metadata": {},
     "output_type": "execute_result"
    }
   ],
   "source": [
    "matches_cleaned_df.cache()\n",
    "deliveries_cleaned_df.cache()"
   ]
  },
  {
   "cell_type": "code",
   "execution_count": 0,
   "metadata": {
    "application/vnd.databricks.v1+cell": {
     "cellMetadata": {
      "byteLimit": 2048000,
      "rowLimit": 10000
     },
     "inputWidgets": {},
     "nuid": "0c4ecd05-d798-4c55-aed6-b78327d2d16f",
     "showTitle": false,
     "tableResultSettingsMap": {},
     "title": ""
    }
   },
   "outputs": [],
   "source": [
    "# Combine datasets for further analysis\n",
    "combined_df = matches_cleaned_df.join(\n",
    "    deliveries_cleaned_df, matches_cleaned_df.id == deliveries_cleaned_df.match_id, \"inner\"\n",
    ")"
   ]
  },
  {
   "cell_type": "code",
   "execution_count": 0,
   "metadata": {
    "application/vnd.databricks.v1+cell": {
     "cellMetadata": {
      "byteLimit": 2048000,
      "rowLimit": 10000
     },
     "inputWidgets": {},
     "nuid": "2cdef2e4-9de0-4916-9a6b-d0f34f586686",
     "showTitle": false,
     "tableResultSettingsMap": {},
     "title": ""
    }
   },
   "outputs": [],
   "source": [
    "# Analytical Insights\n",
    "\n",
    "# Matches per season\n",
    "season_matches = (\n",
    "    matches_cleaned_df.groupBy(\"season\")\n",
    "    .count()\n",
    "    .withColumnRenamed(\"count\", \"Matches\")\n",
    "    .sort(\"season\")\n",
    ")\n",
    "season_matches.write.format(\"delta\").mode(\"overwrite\").saveAsTable(\"season_matches\")"
   ]
  },
  {
   "cell_type": "code",
   "execution_count": 0,
   "metadata": {
    "application/vnd.databricks.v1+cell": {
     "cellMetadata": {
      "byteLimit": 2048000,
      "rowLimit": 10000
     },
     "inputWidgets": {},
     "nuid": "fd8ae0e3-0450-44c6-a085-262a168f3eba",
     "showTitle": false,
     "tableResultSettingsMap": {},
     "title": ""
    }
   },
   "outputs": [
    {
     "output_type": "display_data",
     "data": {
      "text/html": [
       "<style scoped>\n",
       "  .table-result-container {\n",
       "    max-height: 300px;\n",
       "    overflow: auto;\n",
       "  }\n",
       "  table, th, td {\n",
       "    border: 1px solid black;\n",
       "    border-collapse: collapse;\n",
       "  }\n",
       "  th, td {\n",
       "    padding: 5px;\n",
       "  }\n",
       "  th {\n",
       "    text-align: left;\n",
       "  }\n",
       "</style><div class='table-result-container'><table class='table-result'><thead style='background-color: white'><tr><th>season</th><th>Matches</th></tr></thead><tbody><tr><td>2008</td><td>58</td></tr><tr><td>2009</td><td>57</td></tr><tr><td>2010</td><td>60</td></tr><tr><td>2011</td><td>73</td></tr><tr><td>2012</td><td>74</td></tr><tr><td>2013</td><td>76</td></tr><tr><td>2014</td><td>60</td></tr><tr><td>2015</td><td>59</td></tr><tr><td>2016</td><td>60</td></tr><tr><td>2017</td><td>59</td></tr><tr><td>2018</td><td>60</td></tr><tr><td>2019</td><td>60</td></tr><tr><td>2020</td><td>60</td></tr><tr><td>2021</td><td>60</td></tr><tr><td>2022</td><td>74</td></tr><tr><td>2023</td><td>74</td></tr><tr><td>2024</td><td>71</td></tr></tbody></table></div>"
      ]
     },
     "metadata": {
      "application/vnd.databricks.v1+output": {
       "addedWidgets": {},
       "aggData": [],
       "aggError": "",
       "aggOverflow": false,
       "aggSchema": [],
       "aggSeriesLimitReached": false,
       "aggType": "",
       "arguments": {},
       "columnCustomDisplayInfos": {},
       "data": [
        [
         2008,
         58
        ],
        [
         2009,
         57
        ],
        [
         2010,
         60
        ],
        [
         2011,
         73
        ],
        [
         2012,
         74
        ],
        [
         2013,
         76
        ],
        [
         2014,
         60
        ],
        [
         2015,
         59
        ],
        [
         2016,
         60
        ],
        [
         2017,
         59
        ],
        [
         2018,
         60
        ],
        [
         2019,
         60
        ],
        [
         2020,
         60
        ],
        [
         2021,
         60
        ],
        [
         2022,
         74
        ],
        [
         2023,
         74
        ],
        [
         2024,
         71
        ]
       ],
       "datasetInfos": [],
       "dbfsResultPath": null,
       "isJsonSchema": true,
       "metadata": {},
       "overflow": false,
       "plotOptions": {
        "customPlotOptions": {},
        "displayType": "table",
        "pivotAggregation": null,
        "pivotColumns": null,
        "xColumns": null,
        "yColumns": null
       },
       "removedWidgets": [],
       "schema": [
        {
         "metadata": "{}",
         "name": "season",
         "type": "\"integer\""
        },
        {
         "metadata": "{}",
         "name": "Matches",
         "type": "\"long\""
        }
       ],
       "type": "table"
      }
     },
     "output_type": "display_data"
    }
   ],
   "source": [
    "season_matches.display()"
   ]
  },
  {
   "cell_type": "code",
   "execution_count": 0,
   "metadata": {
    "application/vnd.databricks.v1+cell": {
     "cellMetadata": {
      "byteLimit": 2048000,
      "rowLimit": 10000
     },
     "inputWidgets": {},
     "nuid": "403dc74d-f145-4a7a-a293-e15ad2448d8f",
     "showTitle": false,
     "tableResultSettingsMap": {},
     "title": ""
    }
   },
   "outputs": [],
   "source": [
    "# Compute team win rates and save to Gold layer\n",
    "filtered_matches = matches_cleaned_df.filter(col(\"winner\").isNotNull())\n",
    "team_wins = filtered_matches.groupBy(\"season\", \"winner\").agg(count(\"id\").alias(\"Wins\"))\n",
    "matches_played = (\n",
    "    matches_cleaned_df.select(\"season\", col(\"team1\").alias(\"team\"))\n",
    "    .union(matches_cleaned_df.select(\"season\", col(\"team2\").alias(\"team\")))\n",
    "    .groupBy(\"season\", \"team\")\n",
    "    .agg(count(\"*\").alias(\"Matches\"))\n",
    ")\n",
    "win_rate_df = matches_played.join(\n",
    "    team_wins,\n",
    "    (matches_played.season == team_wins.season)\n",
    "    & (matches_played.team == team_wins.winner),\n",
    "    \"left\",\n",
    ").select(\n",
    "    matches_played.season,\n",
    "    matches_played.team,\n",
    "    col(\"Matches\"),\n",
    "    col(\"Wins\"),\n",
    "    round((col(\"Wins\") / col(\"Matches\") * 100), 2).alias(\"Win_Rate\"),\n",
    ")\n",
    "\n",
    "win_rate_df.write.format(\"delta\").mode(\"overwrite\").saveAsTable(\"team_win_rate\")"
   ]
  },
  {
   "cell_type": "code",
   "execution_count": 0,
   "metadata": {
    "application/vnd.databricks.v1+cell": {
     "cellMetadata": {
      "byteLimit": 2048000,
      "rowLimit": 10000
     },
     "inputWidgets": {},
     "nuid": "172734f9-2828-4a7e-85b9-516fea74339b",
     "showTitle": false,
     "tableResultSettingsMap": {},
     "title": ""
    }
   },
   "outputs": [],
   "source": [
    "# Venue Analysis: Top Venues by Number of Matches\n",
    "top_venues = (\n",
    "    matches_cleaned_df.groupBy(\"venue\")\n",
    "    .agg(count(\"id\").alias(\"Matches\"))\n",
    "    .orderBy(desc(\"Matches\"))\n",
    "    .limit(10)\n",
    ")\n",
    "\n",
    "# Save top venues to Gold layer\n",
    "top_venues.write.format(\"delta\").mode(\"overwrite\").saveAsTable(\"top_venues\")\n"
   ]
  },
  {
   "cell_type": "code",
   "execution_count": 0,
   "metadata": {
    "application/vnd.databricks.v1+cell": {
     "cellMetadata": {
      "byteLimit": 2048000,
      "rowLimit": 10000
     },
     "inputWidgets": {},
     "nuid": "ad84dae2-03d7-4137-86a0-52390476635e",
     "showTitle": false,
     "tableResultSettingsMap": {},
     "title": ""
    }
   },
   "outputs": [
    {
     "output_type": "display_data",
     "data": {
      "text/html": [
       "<style scoped>\n",
       "  .table-result-container {\n",
       "    max-height: 300px;\n",
       "    overflow: auto;\n",
       "  }\n",
       "  table, th, td {\n",
       "    border: 1px solid black;\n",
       "    border-collapse: collapse;\n",
       "  }\n",
       "  th, td {\n",
       "    padding: 5px;\n",
       "  }\n",
       "  th {\n",
       "    text-align: left;\n",
       "  }\n",
       "</style><div class='table-result-container'><table class='table-result'><thead style='background-color: white'><tr><th>venue</th><th>Matches</th></tr></thead><tbody><tr><td>Wankhede Stadium, Mumbai</td><td>118</td></tr><tr><td>M Chinnaswamy Stadium, Bengaluru</td><td>94</td></tr><tr><td>Eden Gardens, Kolkata</td><td>93</td></tr><tr><td>Arun Jaitley Stadium, Delhi</td><td>90</td></tr><tr><td>MA Chidambaram Stadium, Chepauk, Chennai</td><td>85</td></tr><tr><td>Rajiv Gandhi International Stadium, Uppal, Hyderabad</td><td>77</td></tr><tr><td>Punjab Cricket Association IS Bindra Stadium, Mohali, Chandigarh</td><td>61</td></tr><tr><td>Sawai Mansingh Stadium, Jaipur</td><td>57</td></tr><tr><td>Dubai International Cricket Stadium</td><td>46</td></tr><tr><td>Dr DY Patil Sports Academy, Mumbai</td><td>37</td></tr></tbody></table></div>"
      ]
     },
     "metadata": {
      "application/vnd.databricks.v1+output": {
       "addedWidgets": {},
       "aggData": [],
       "aggError": "",
       "aggOverflow": false,
       "aggSchema": [],
       "aggSeriesLimitReached": false,
       "aggType": "",
       "arguments": {},
       "columnCustomDisplayInfos": {},
       "data": [
        [
         "Wankhede Stadium, Mumbai",
         118
        ],
        [
         "M Chinnaswamy Stadium, Bengaluru",
         94
        ],
        [
         "Eden Gardens, Kolkata",
         93
        ],
        [
         "Arun Jaitley Stadium, Delhi",
         90
        ],
        [
         "MA Chidambaram Stadium, Chepauk, Chennai",
         85
        ],
        [
         "Rajiv Gandhi International Stadium, Uppal, Hyderabad",
         77
        ],
        [
         "Punjab Cricket Association IS Bindra Stadium, Mohali, Chandigarh",
         61
        ],
        [
         "Sawai Mansingh Stadium, Jaipur",
         57
        ],
        [
         "Dubai International Cricket Stadium",
         46
        ],
        [
         "Dr DY Patil Sports Academy, Mumbai",
         37
        ]
       ],
       "datasetInfos": [],
       "dbfsResultPath": null,
       "isJsonSchema": true,
       "metadata": {},
       "overflow": false,
       "plotOptions": {
        "customPlotOptions": {},
        "displayType": "table",
        "pivotAggregation": null,
        "pivotColumns": null,
        "xColumns": null,
        "yColumns": null
       },
       "removedWidgets": [],
       "schema": [
        {
         "metadata": "{}",
         "name": "venue",
         "type": "\"string\""
        },
        {
         "metadata": "{}",
         "name": "Matches",
         "type": "\"long\""
        }
       ],
       "type": "table"
      }
     },
     "output_type": "display_data"
    }
   ],
   "source": [
    "top_venues.display()"
   ]
  },
  {
   "cell_type": "code",
   "execution_count": 0,
   "metadata": {
    "application/vnd.databricks.v1+cell": {
     "cellMetadata": {
      "byteLimit": 2048000,
      "rowLimit": 10000
     },
     "inputWidgets": {},
     "nuid": "101ba42d-9a43-45b0-992d-dc9d92286e7d",
     "showTitle": false,
     "tableResultSettingsMap": {},
     "title": ""
    }
   },
   "outputs": [],
   "source": [
    "# Toss Analysis\n",
    "overall_toss_analysis = matches_cleaned_df.groupBy(\"toss_winner\", \"toss_decision\") \\\n",
    "    .agg(\n",
    "        count(\"*\").alias(\"total_matches\"),\n",
    "        count(when(col(\"toss_winner\") == col(\"winner\"), True)).alias(\"wins\")\n",
    "    ) \\\n",
    "    .withColumn(\"win_percentage\", round((col(\"wins\") / col(\"total_matches\")) * 100, 2))\n",
    "\n",
    "overall_toss_analysis.write.format(\"delta\").mode(\"overwrite\").saveAsTable(\"overall_toss_analysis\")\n"
   ]
  },
  {
   "cell_type": "code",
   "execution_count": 0,
   "metadata": {
    "application/vnd.databricks.v1+cell": {
     "cellMetadata": {
      "byteLimit": 2048000,
      "rowLimit": 10000
     },
     "inputWidgets": {},
     "nuid": "23c31de5-f84f-4f81-9eb8-142a7c6ce514",
     "showTitle": false,
     "tableResultSettingsMap": {},
     "title": ""
    }
   },
   "outputs": [],
   "source": [
    "# Season-Wise Toss Analysis\n",
    "season_toss_analysis = (\n",
    "    matches_cleaned_df.groupBy(\"season\", \"toss_winner\", \"toss_decision\")\n",
    "    .agg(\n",
    "        count(\"*\").alias(\"Total_matches\"),\n",
    "        count(when(col(\"toss_winner\") == col(\"winner\"), True)).alias(\"Wins\"),\n",
    "    )\n",
    "    .withColumn(\n",
    "        \"Win_Percentage\", round((col(\"Wins\") / col(\"Total_matches\")) * 100, 2)\n",
    "    )\n",
    "    .orderBy(\"season\", \"Win_Percentage\")\n",
    ")\n",
    "\n",
    "# Save season-wise toss analysis to Gold layer\n",
    "season_toss_analysis.write.format(\"delta\").mode(\"overwrite\").saveAsTable(\"season_toss_analysis\")"
   ]
  },
  {
   "cell_type": "code",
   "execution_count": 0,
   "metadata": {
    "application/vnd.databricks.v1+cell": {
     "cellMetadata": {
      "byteLimit": 2048000,
      "rowLimit": 10000
     },
     "inputWidgets": {},
     "nuid": "2c9aed2d-8e8c-4c48-b314-1dc57674f1ad",
     "showTitle": false,
     "tableResultSettingsMap": {},
     "title": ""
    }
   },
   "outputs": [],
   "source": [
    "# Dependence on Toss Wins for Overall Team Wins\n",
    "\n",
    "# Wins when toss is won\n",
    "win_with_toss = matches_cleaned_df.groupBy(\"toss_winner\").agg(\n",
    "    count(when(col(\"toss_winner\") == col(\"winner\"), True)).alias(\"wins_with_toss\")\n",
    ").withColumnRenamed(\"toss_winner\", \"team\")\n",
    "\n",
    "# Total matches won for each team\n",
    "team_wins = matches_cleaned_df.filter(col(\"winner\").isNotNull()).groupBy(\"winner\").agg(\n",
    "    count(\"*\").alias(\"total_wins\")\n",
    ").withColumnRenamed(\"winner\", \"team\")\n",
    "\n",
    "# Calculate dependence on toss wins\n",
    "toss_dependence = win_with_toss.join(team_wins, \"team\", \"inner\").withColumn(\n",
    "    \"dependence_on_toss\",\n",
    "    round((col(\"wins_with_toss\") / col(\"total_wins\")) * 100, 2),\n",
    ")\n",
    "\n",
    "# Save toss dependence to Gold layer\n",
    "toss_dependence.write.format(\"delta\").mode(\"overwrite\").saveAsTable(\"toss_dependence\")\n"
   ]
  },
  {
   "cell_type": "markdown",
   "metadata": {
    "application/vnd.databricks.v1+cell": {
     "cellMetadata": {
      "byteLimit": 2048000,
      "rowLimit": 10000
     },
     "inputWidgets": {},
     "nuid": "6997da3e-5a34-4485-a273-3221dbc9f77c",
     "showTitle": false,
     "tableResultSettingsMap": {},
     "title": ""
    }
   },
   "source": [
    "# **Punjab Kings Analysis**"
   ]
  },
  {
   "cell_type": "code",
   "execution_count": 0,
   "metadata": {
    "application/vnd.databricks.v1+cell": {
     "cellMetadata": {
      "byteLimit": 2048000,
      "rowLimit": 10000
     },
     "inputWidgets": {},
     "nuid": "35230b8d-ad03-476a-80f9-7e8aee349bae",
     "showTitle": false,
     "tableResultSettingsMap": {},
     "title": ""
    }
   },
   "outputs": [],
   "source": [
    "# Filter Matches for Punjab Kings\n",
    "team_name = \"Punjab Kings\"\n",
    "\n",
    "punjab_matches_df = matches_cleaned_df.filter(\n",
    "  (col(\"team1\") == team_name) | (col(\"team2\") == team_name)\n",
    ")"
   ]
  },
  {
   "cell_type": "code",
   "execution_count": 0,
   "metadata": {
    "application/vnd.databricks.v1+cell": {
     "cellMetadata": {
      "byteLimit": 2048000,
      "rowLimit": 10000
     },
     "inputWidgets": {},
     "nuid": "18c31350-eb02-43cb-a9b6-598182a55369",
     "showTitle": false,
     "tableResultSettingsMap": {},
     "title": ""
    }
   },
   "outputs": [],
   "source": [
    "win_loss_df = punjab_matches_df.groupBy(\"season\").agg(\n",
    "  count(\"*\").alias(\"total_matches\"),\n",
    "  count(when(col(\"winner\") == team_name, True)).alias(\"Wins\")\n",
    ").withColumn(\"win_percentage\", round( col(\"Wins\")/ col(\"total_matches\") * 100, 2))\n",
    "\n",
    "win_loss_df.write.format(\"delta\").mode(\"overwrite\").saveAsTable(\"PBKS_win_loss\")"
   ]
  },
  {
   "cell_type": "code",
   "execution_count": 0,
   "metadata": {
    "application/vnd.databricks.v1+cell": {
     "cellMetadata": {
      "byteLimit": 2048000,
      "rowLimit": 10000
     },
     "inputWidgets": {},
     "nuid": "9ee37419-db95-4fb3-a06b-029aa63ea358",
     "showTitle": false,
     "tableResultSettingsMap": {},
     "title": ""
    }
   },
   "outputs": [],
   "source": [
    "# Top Batsmen for Punjab Kings\n",
    "punjab_batsmen = deliveries_cleaned_df.filter(col(\"batting_team\") == team_name).groupBy(\"batter\").agg(\n",
    "    countDistinct(\"match_id\").alias(\"Total_Matches\"),\n",
    "    sum(\"batsman_runs\").alias(\"Total_Runs\"),\n",
    "    count(\"ball\").alias(\"Balls_Played\")\n",
    ").withColumn(\n",
    "    \"Strike_Rate\", round(col(\"Total_Runs\") / col(\"Balls_Played\") * 100 , 2)\n",
    ").orderBy(desc(\"Total_Runs\"))\n",
    "\n",
    "punjab_batsmen.write.format(\"delta\").mode(\"overwrite\").saveAsTable(\"punjab_batsmen\")"
   ]
  },
  {
   "cell_type": "code",
   "execution_count": 0,
   "metadata": {
    "application/vnd.databricks.v1+cell": {
     "cellMetadata": {
      "byteLimit": 2048000,
      "rowLimit": 10000
     },
     "inputWidgets": {},
     "nuid": "6358ac3c-3836-46cd-b490-b965d73d0fec",
     "showTitle": false,
     "tableResultSettingsMap": {},
     "title": ""
    }
   },
   "outputs": [],
   "source": [
    "# Home vs. Away Performance\n",
    "\n",
    "home_away_df = punjab_matches_df.groupBy(\n",
    "    when(col(\"team1\") == team_name, \"Home\").otherwise(\"Away\").alias(\"Match_Location\")\n",
    ").agg(\n",
    "    count(\"*\").alias(\"Total_Matches\"),\n",
    "    count(when(col(\"winner\") == team_name, True)).alias(\"Wins\"),\n",
    ").withColumn(\"Win_Percentage\", round((col(\"Wins\") / col(\"Total_Matches\")) * 100, 2))\n",
    "\n",
    "home_away_df.write.format(\"delta\").mode(\"overwrite\").saveAsTable(\"PBKS_home_away\")"
   ]
  },
  {
   "cell_type": "code",
   "execution_count": 0,
   "metadata": {
    "application/vnd.databricks.v1+cell": {
     "cellMetadata": {
      "byteLimit": 2048000,
      "rowLimit": 10000
     },
     "inputWidgets": {},
     "nuid": "e6f419e8-09c4-47e2-8506-8d75c29b04eb",
     "showTitle": false,
     "tableResultSettingsMap": {},
     "title": ""
    }
   },
   "outputs": [],
   "source": [
    "from functools import reduce\n",
    "\n",
    "# List of currently active IPL teams\n",
    "active_teams = [\n",
    "    \"Chennai Super Kings\",\n",
    "    \"Delhi Capitals\",\n",
    "    \"Gujarat Titans\",\n",
    "    \"Kolkata Knight Riders\",\n",
    "    \"Lucknow Super Giants\",\n",
    "    \"Mumbai Indians\",\n",
    "    \"Rajasthan Royals\",\n",
    "    \"Royal Challengers Bengaluru\",\n",
    "    \"Sunrisers Hyderabad\",\n",
    "]\n",
    "\n",
    "# Initialize an empty list to store head-to-head stats\n",
    "head_to_head_stats = []\n",
    "\n",
    "# Loop through each active team and compute head-to-head stats\n",
    "for rival_team in active_teams:\n",
    "    # Replace spaces with underscores for valid column names\n",
    "    valid_rival_team_name = rival_team.replace(\" \", \"_\")\n",
    "\n",
    "    head_to_head_df = punjab_matches_df.filter(\n",
    "        (col(\"team1\") == rival_team) | (col(\"team2\") == rival_team)\n",
    "    ).groupBy().agg(\n",
    "        count(\"*\").alias(\"Total_Matches\"),\n",
    "        count(when(col(\"winner\") == team_name, True)).alias(\"Punjab_Wins\"),\n",
    "        count(when(col(\"winner\") == rival_team, True)).alias(f\"{valid_rival_team_name}_Wins\"),\n",
    "    ).withColumn(\n",
    "        \"Win_Percentage\",\n",
    "        round((col(\"Punjab_Wins\") / col(\"Total_Matches\")) * 100, 2),\n",
    "    ).withColumn(\"Opponent\", lit(rival_team))  # Add opponent column\n",
    "\n",
    "    # Append the stats for the current rival team\n",
    "    head_to_head_stats.append(head_to_head_df)\n",
    "\n",
    "# Combine all head-to-head stats into a single DataFrame\n",
    "if head_to_head_stats:\n",
    "    combined_head_to_head_df = reduce(lambda df1, df2: df1.union(df2), head_to_head_stats)\n",
    "\n",
    "    # Reorder columns to display \"Opponent\" first\n",
    "    reordered_df = combined_head_to_head_df.select(\n",
    "        \"Opponent\", \"Total_Matches\", \"Punjab_Wins\",\n",
    "        *[col for col in combined_head_to_head_df.columns if col not in [\"Opponent\", \"Total_Matches\", \"Punjab_Wins\", \"Win_Percentage\"]],\n",
    "        \"Win_Percentage\"\n",
    "    )\n",
    "\n",
    "    # Write the DataFrame to storage\n",
    "    reordered_df.write.format(\"delta\").mode(\"overwrite\").saveAsTable(\"combined_head_to_head\")\n",
    "else:\n",
    "    print(\"No data available for head-to-head analysis.\")\n"
   ]
  },
  {
   "cell_type": "code",
   "execution_count": 0,
   "metadata": {
    "application/vnd.databricks.v1+cell": {
     "cellMetadata": {
      "byteLimit": 2048000,
      "rowLimit": 10000
     },
     "inputWidgets": {},
     "nuid": "868ec5be-d7c9-4baa-8f84-d5e9664d6c07",
     "showTitle": false,
     "tableResultSettingsMap": {},
     "title": ""
    }
   },
   "outputs": [],
   "source": [
    "venue_effect_df = punjab_matches_df.groupBy(\"venue\").agg(\n",
    "  countDistinct(\"id\").alias(\"Total_Matches\"),\n",
    "  count(when(col(\"winner\") == team_name, True)).alias(\"Punjab_Wins\")\n",
    ").withColumn(\n",
    "  \"Win_Percentage\", round(col(\"Punjab_Wins\") / col(\"Total_Matches\") * 100, 2)\n",
    ").filter(\n",
    "    col(\"Total_Matches\") > 1  # Exclude venues with only one match\n",
    ").orderBy(desc(\"Win_Percentage\"))\n",
    "\n",
    "venue_effect_df.write.format(\"delta\").mode(\"overwrite\").saveAsTable(\"PBKS_venue\")"
   ]
  }
 ],
 "metadata": {
  "application/vnd.databricks.v1+notebook": {
   "dashboards": [],
   "environmentMetadata": null,
   "language": "python",
   "notebookMetadata": {
    "mostRecentlyExecutedCommandWithImplicitDF": {
     "commandId": 2711536312775715,
     "dataframes": [
      "_sqldf"
     ]
    },
    "pythonIndentUnit": 2
   },
   "notebookName": "IPL Analysis",
   "widgets": {}
  }
 },
 "nbformat": 4,
 "nbformat_minor": 0
}
